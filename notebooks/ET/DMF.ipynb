{
 "cells": [
  {
   "cell_type": "code",
   "execution_count": 51,
   "metadata": {},
   "outputs": [],
   "source": [
    "import os, sys,json\n",
    "sys.path.append(\"../../lib\")\n",
    "from livdattable import *\n",
    "t=Table()\n",
    "f=open(\"/var/www/html/etsite/demos/dmftest-simple.geojson\", \"r\")\n",
    "p=json.loads(f.read())\n",
    "def getstateindexbyname(statename, geojsoninput):\n",
    "    index=0\n",
    "    for state in geojsoninput['features']:\n",
    "        if state['properties']['ST_NM']==statename:\n",
    "            return index\n",
    "        index+=1\n",
    "    return -1\n",
    "\n",
    "def getpropertiesbystatename(statename,geojsoninput):\n",
    "    index=getstateindexbyname(statename,geojsoninput)\n",
    "    return geojsoninput['features'][index]['properties']\n",
    "    \n",
    "def getstatenames(geojsoninput):\n",
    "    statenames=[]\n",
    "    for state in geojsoninput['features']:\n",
    "        statenames.append(state['properties']['ST_NM'])\n",
    "        print statenames\n",
    "    return statenames\n",
    "def converttotable(geojsoninput):\n",
    "    t=Table()\n",
    "    keys=geojsoninput['features'][0]['properties'].keys()\n",
    "    print keys\n",
    "    t.colnames=keys\n",
    "    statelist=[]\n",
    "    for state in geojsoninput['features']:\n",
    "        dictionary={}\n",
    "        for key in t.colnames:\n",
    "            dictionary[key]=state['properties'][key]\n",
    "        statelist.append(dictionary)\n",
    "    t.matrix=statelist\n",
    "    t.filename=\"states.csv\"\n",
    "    return t\n",
    "def updatepropertiesfromtable(geojsoninput,tab):\n",
    "    for state in geojsoninput['features']:\n",
    "        for row in tab.matrix:\n",
    "            if row['ST_NM']==state['properties']['ST_NM']:\n",
    "                for key in tab.colnames:\n",
    "                    if row[key]==\"\":\n",
    "                        val=None\n",
    "                    else:\n",
    "                        val=row[key]\n",
    "                    state['properties'][key]=val\n",
    "    return geojsoninput\n",
    "    \n",
    "        "
   ]
  },
  {
   "cell_type": "code",
   "execution_count": 30,
   "metadata": {},
   "outputs": [
    {
     "name": "stdout",
     "output_type": "stream",
     "text": [
      "TOT_DISTS\n",
      "RYLT_C\n",
      "RYLT_NC\n",
      "DT_DMF_NOT\n",
      "NUM_DISTS\n",
      "COLL_DMF\n",
      "DT_DMF_RUL\n",
      "LNK\n",
      "ST_NM\n"
     ]
    }
   ],
   "source": [
    "t=getpropertiesbystatename(\"Madhya Pradesh\",p)\n",
    "for key in t.keys(): print key"
   ]
  },
  {
   "cell_type": "code",
   "execution_count": 31,
   "metadata": {},
   "outputs": [
    {
     "name": "stdout",
     "output_type": "stream",
     "text": [
      "[u'Andaman & Nicobar Island']\n",
      "[u'Andaman & Nicobar Island', u'Andhra Pradesh']\n",
      "[u'Andaman & Nicobar Island', u'Andhra Pradesh', u'Arunanchal Pradesh']\n",
      "[u'Andaman & Nicobar Island', u'Andhra Pradesh', u'Arunanchal Pradesh', u'Assam']\n",
      "[u'Andaman & Nicobar Island', u'Andhra Pradesh', u'Arunanchal Pradesh', u'Assam', u'Bihar']\n",
      "[u'Andaman & Nicobar Island', u'Andhra Pradesh', u'Arunanchal Pradesh', u'Assam', u'Bihar', u'Chandigarh']\n",
      "[u'Andaman & Nicobar Island', u'Andhra Pradesh', u'Arunanchal Pradesh', u'Assam', u'Bihar', u'Chandigarh', u'Chhattisgarh']\n",
      "[u'Andaman & Nicobar Island', u'Andhra Pradesh', u'Arunanchal Pradesh', u'Assam', u'Bihar', u'Chandigarh', u'Chhattisgarh', u'Dadara & Nagar Havelli']\n",
      "[u'Andaman & Nicobar Island', u'Andhra Pradesh', u'Arunanchal Pradesh', u'Assam', u'Bihar', u'Chandigarh', u'Chhattisgarh', u'Dadara & Nagar Havelli', u'Daman & Diu']\n",
      "[u'Andaman & Nicobar Island', u'Andhra Pradesh', u'Arunanchal Pradesh', u'Assam', u'Bihar', u'Chandigarh', u'Chhattisgarh', u'Dadara & Nagar Havelli', u'Daman & Diu', u'Goa']\n",
      "[u'Andaman & Nicobar Island', u'Andhra Pradesh', u'Arunanchal Pradesh', u'Assam', u'Bihar', u'Chandigarh', u'Chhattisgarh', u'Dadara & Nagar Havelli', u'Daman & Diu', u'Goa', u'Gujarat']\n",
      "[u'Andaman & Nicobar Island', u'Andhra Pradesh', u'Arunanchal Pradesh', u'Assam', u'Bihar', u'Chandigarh', u'Chhattisgarh', u'Dadara & Nagar Havelli', u'Daman & Diu', u'Goa', u'Gujarat', u'Haryana']\n",
      "[u'Andaman & Nicobar Island', u'Andhra Pradesh', u'Arunanchal Pradesh', u'Assam', u'Bihar', u'Chandigarh', u'Chhattisgarh', u'Dadara & Nagar Havelli', u'Daman & Diu', u'Goa', u'Gujarat', u'Haryana', u'Himachal Pradesh']\n",
      "[u'Andaman & Nicobar Island', u'Andhra Pradesh', u'Arunanchal Pradesh', u'Assam', u'Bihar', u'Chandigarh', u'Chhattisgarh', u'Dadara & Nagar Havelli', u'Daman & Diu', u'Goa', u'Gujarat', u'Haryana', u'Himachal Pradesh', u'Jammu & Kashmir']\n",
      "[u'Andaman & Nicobar Island', u'Andhra Pradesh', u'Arunanchal Pradesh', u'Assam', u'Bihar', u'Chandigarh', u'Chhattisgarh', u'Dadara & Nagar Havelli', u'Daman & Diu', u'Goa', u'Gujarat', u'Haryana', u'Himachal Pradesh', u'Jammu & Kashmir', u'Jharkhand']\n",
      "[u'Andaman & Nicobar Island', u'Andhra Pradesh', u'Arunanchal Pradesh', u'Assam', u'Bihar', u'Chandigarh', u'Chhattisgarh', u'Dadara & Nagar Havelli', u'Daman & Diu', u'Goa', u'Gujarat', u'Haryana', u'Himachal Pradesh', u'Jammu & Kashmir', u'Jharkhand', u'Karnataka']\n",
      "[u'Andaman & Nicobar Island', u'Andhra Pradesh', u'Arunanchal Pradesh', u'Assam', u'Bihar', u'Chandigarh', u'Chhattisgarh', u'Dadara & Nagar Havelli', u'Daman & Diu', u'Goa', u'Gujarat', u'Haryana', u'Himachal Pradesh', u'Jammu & Kashmir', u'Jharkhand', u'Karnataka', u'Kerala']\n",
      "[u'Andaman & Nicobar Island', u'Andhra Pradesh', u'Arunanchal Pradesh', u'Assam', u'Bihar', u'Chandigarh', u'Chhattisgarh', u'Dadara & Nagar Havelli', u'Daman & Diu', u'Goa', u'Gujarat', u'Haryana', u'Himachal Pradesh', u'Jammu & Kashmir', u'Jharkhand', u'Karnataka', u'Kerala', u'Lakshadweep']\n",
      "[u'Andaman & Nicobar Island', u'Andhra Pradesh', u'Arunanchal Pradesh', u'Assam', u'Bihar', u'Chandigarh', u'Chhattisgarh', u'Dadara & Nagar Havelli', u'Daman & Diu', u'Goa', u'Gujarat', u'Haryana', u'Himachal Pradesh', u'Jammu & Kashmir', u'Jharkhand', u'Karnataka', u'Kerala', u'Lakshadweep', u'Madhya Pradesh']\n",
      "[u'Andaman & Nicobar Island', u'Andhra Pradesh', u'Arunanchal Pradesh', u'Assam', u'Bihar', u'Chandigarh', u'Chhattisgarh', u'Dadara & Nagar Havelli', u'Daman & Diu', u'Goa', u'Gujarat', u'Haryana', u'Himachal Pradesh', u'Jammu & Kashmir', u'Jharkhand', u'Karnataka', u'Kerala', u'Lakshadweep', u'Madhya Pradesh', u'Maharashtra']\n",
      "[u'Andaman & Nicobar Island', u'Andhra Pradesh', u'Arunanchal Pradesh', u'Assam', u'Bihar', u'Chandigarh', u'Chhattisgarh', u'Dadara & Nagar Havelli', u'Daman & Diu', u'Goa', u'Gujarat', u'Haryana', u'Himachal Pradesh', u'Jammu & Kashmir', u'Jharkhand', u'Karnataka', u'Kerala', u'Lakshadweep', u'Madhya Pradesh', u'Maharashtra', u'Manipur']\n",
      "[u'Andaman & Nicobar Island', u'Andhra Pradesh', u'Arunanchal Pradesh', u'Assam', u'Bihar', u'Chandigarh', u'Chhattisgarh', u'Dadara & Nagar Havelli', u'Daman & Diu', u'Goa', u'Gujarat', u'Haryana', u'Himachal Pradesh', u'Jammu & Kashmir', u'Jharkhand', u'Karnataka', u'Kerala', u'Lakshadweep', u'Madhya Pradesh', u'Maharashtra', u'Manipur', u'Meghalaya']\n",
      "[u'Andaman & Nicobar Island', u'Andhra Pradesh', u'Arunanchal Pradesh', u'Assam', u'Bihar', u'Chandigarh', u'Chhattisgarh', u'Dadara & Nagar Havelli', u'Daman & Diu', u'Goa', u'Gujarat', u'Haryana', u'Himachal Pradesh', u'Jammu & Kashmir', u'Jharkhand', u'Karnataka', u'Kerala', u'Lakshadweep', u'Madhya Pradesh', u'Maharashtra', u'Manipur', u'Meghalaya', u'Mizoram']\n",
      "[u'Andaman & Nicobar Island', u'Andhra Pradesh', u'Arunanchal Pradesh', u'Assam', u'Bihar', u'Chandigarh', u'Chhattisgarh', u'Dadara & Nagar Havelli', u'Daman & Diu', u'Goa', u'Gujarat', u'Haryana', u'Himachal Pradesh', u'Jammu & Kashmir', u'Jharkhand', u'Karnataka', u'Kerala', u'Lakshadweep', u'Madhya Pradesh', u'Maharashtra', u'Manipur', u'Meghalaya', u'Mizoram', u'Nagaland']\n",
      "[u'Andaman & Nicobar Island', u'Andhra Pradesh', u'Arunanchal Pradesh', u'Assam', u'Bihar', u'Chandigarh', u'Chhattisgarh', u'Dadara & Nagar Havelli', u'Daman & Diu', u'Goa', u'Gujarat', u'Haryana', u'Himachal Pradesh', u'Jammu & Kashmir', u'Jharkhand', u'Karnataka', u'Kerala', u'Lakshadweep', u'Madhya Pradesh', u'Maharashtra', u'Manipur', u'Meghalaya', u'Mizoram', u'Nagaland', u'NCT of Delhi']\n",
      "[u'Andaman & Nicobar Island', u'Andhra Pradesh', u'Arunanchal Pradesh', u'Assam', u'Bihar', u'Chandigarh', u'Chhattisgarh', u'Dadara & Nagar Havelli', u'Daman & Diu', u'Goa', u'Gujarat', u'Haryana', u'Himachal Pradesh', u'Jammu & Kashmir', u'Jharkhand', u'Karnataka', u'Kerala', u'Lakshadweep', u'Madhya Pradesh', u'Maharashtra', u'Manipur', u'Meghalaya', u'Mizoram', u'Nagaland', u'NCT of Delhi', u'Puducherry']\n",
      "[u'Andaman & Nicobar Island', u'Andhra Pradesh', u'Arunanchal Pradesh', u'Assam', u'Bihar', u'Chandigarh', u'Chhattisgarh', u'Dadara & Nagar Havelli', u'Daman & Diu', u'Goa', u'Gujarat', u'Haryana', u'Himachal Pradesh', u'Jammu & Kashmir', u'Jharkhand', u'Karnataka', u'Kerala', u'Lakshadweep', u'Madhya Pradesh', u'Maharashtra', u'Manipur', u'Meghalaya', u'Mizoram', u'Nagaland', u'NCT of Delhi', u'Puducherry', u'Punjab']\n",
      "[u'Andaman & Nicobar Island', u'Andhra Pradesh', u'Arunanchal Pradesh', u'Assam', u'Bihar', u'Chandigarh', u'Chhattisgarh', u'Dadara & Nagar Havelli', u'Daman & Diu', u'Goa', u'Gujarat', u'Haryana', u'Himachal Pradesh', u'Jammu & Kashmir', u'Jharkhand', u'Karnataka', u'Kerala', u'Lakshadweep', u'Madhya Pradesh', u'Maharashtra', u'Manipur', u'Meghalaya', u'Mizoram', u'Nagaland', u'NCT of Delhi', u'Puducherry', u'Punjab', u'Rajasthan']\n",
      "[u'Andaman & Nicobar Island', u'Andhra Pradesh', u'Arunanchal Pradesh', u'Assam', u'Bihar', u'Chandigarh', u'Chhattisgarh', u'Dadara & Nagar Havelli', u'Daman & Diu', u'Goa', u'Gujarat', u'Haryana', u'Himachal Pradesh', u'Jammu & Kashmir', u'Jharkhand', u'Karnataka', u'Kerala', u'Lakshadweep', u'Madhya Pradesh', u'Maharashtra', u'Manipur', u'Meghalaya', u'Mizoram', u'Nagaland', u'NCT of Delhi', u'Puducherry', u'Punjab', u'Rajasthan', u'Sikkim']\n",
      "[u'Andaman & Nicobar Island', u'Andhra Pradesh', u'Arunanchal Pradesh', u'Assam', u'Bihar', u'Chandigarh', u'Chhattisgarh', u'Dadara & Nagar Havelli', u'Daman & Diu', u'Goa', u'Gujarat', u'Haryana', u'Himachal Pradesh', u'Jammu & Kashmir', u'Jharkhand', u'Karnataka', u'Kerala', u'Lakshadweep', u'Madhya Pradesh', u'Maharashtra', u'Manipur', u'Meghalaya', u'Mizoram', u'Nagaland', u'NCT of Delhi', u'Puducherry', u'Punjab', u'Rajasthan', u'Sikkim', u'Tamil Nadu']\n",
      "[u'Andaman & Nicobar Island', u'Andhra Pradesh', u'Arunanchal Pradesh', u'Assam', u'Bihar', u'Chandigarh', u'Chhattisgarh', u'Dadara & Nagar Havelli', u'Daman & Diu', u'Goa', u'Gujarat', u'Haryana', u'Himachal Pradesh', u'Jammu & Kashmir', u'Jharkhand', u'Karnataka', u'Kerala', u'Lakshadweep', u'Madhya Pradesh', u'Maharashtra', u'Manipur', u'Meghalaya', u'Mizoram', u'Nagaland', u'NCT of Delhi', u'Puducherry', u'Punjab', u'Rajasthan', u'Sikkim', u'Tamil Nadu', u'Telangana']\n",
      "[u'Andaman & Nicobar Island', u'Andhra Pradesh', u'Arunanchal Pradesh', u'Assam', u'Bihar', u'Chandigarh', u'Chhattisgarh', u'Dadara & Nagar Havelli', u'Daman & Diu', u'Goa', u'Gujarat', u'Haryana', u'Himachal Pradesh', u'Jammu & Kashmir', u'Jharkhand', u'Karnataka', u'Kerala', u'Lakshadweep', u'Madhya Pradesh', u'Maharashtra', u'Manipur', u'Meghalaya', u'Mizoram', u'Nagaland', u'NCT of Delhi', u'Puducherry', u'Punjab', u'Rajasthan', u'Sikkim', u'Tamil Nadu', u'Telangana', u'Tripura']\n",
      "[u'Andaman & Nicobar Island', u'Andhra Pradesh', u'Arunanchal Pradesh', u'Assam', u'Bihar', u'Chandigarh', u'Chhattisgarh', u'Dadara & Nagar Havelli', u'Daman & Diu', u'Goa', u'Gujarat', u'Haryana', u'Himachal Pradesh', u'Jammu & Kashmir', u'Jharkhand', u'Karnataka', u'Kerala', u'Lakshadweep', u'Madhya Pradesh', u'Maharashtra', u'Manipur', u'Meghalaya', u'Mizoram', u'Nagaland', u'NCT of Delhi', u'Puducherry', u'Punjab', u'Rajasthan', u'Sikkim', u'Tamil Nadu', u'Telangana', u'Tripura', u'Uttar Pradesh']\n",
      "[u'Andaman & Nicobar Island', u'Andhra Pradesh', u'Arunanchal Pradesh', u'Assam', u'Bihar', u'Chandigarh', u'Chhattisgarh', u'Dadara & Nagar Havelli', u'Daman & Diu', u'Goa', u'Gujarat', u'Haryana', u'Himachal Pradesh', u'Jammu & Kashmir', u'Jharkhand', u'Karnataka', u'Kerala', u'Lakshadweep', u'Madhya Pradesh', u'Maharashtra', u'Manipur', u'Meghalaya', u'Mizoram', u'Nagaland', u'NCT of Delhi', u'Puducherry', u'Punjab', u'Rajasthan', u'Sikkim', u'Tamil Nadu', u'Telangana', u'Tripura', u'Uttar Pradesh', u'Uttarakhand']\n",
      "[u'Andaman & Nicobar Island', u'Andhra Pradesh', u'Arunanchal Pradesh', u'Assam', u'Bihar', u'Chandigarh', u'Chhattisgarh', u'Dadara & Nagar Havelli', u'Daman & Diu', u'Goa', u'Gujarat', u'Haryana', u'Himachal Pradesh', u'Jammu & Kashmir', u'Jharkhand', u'Karnataka', u'Kerala', u'Lakshadweep', u'Madhya Pradesh', u'Maharashtra', u'Manipur', u'Meghalaya', u'Mizoram', u'Nagaland', u'NCT of Delhi', u'Puducherry', u'Punjab', u'Rajasthan', u'Sikkim', u'Tamil Nadu', u'Telangana', u'Tripura', u'Uttar Pradesh', u'Uttarakhand', u'West Bengal']\n",
      "[u'Andaman & Nicobar Island', u'Andhra Pradesh', u'Arunanchal Pradesh', u'Assam', u'Bihar', u'Chandigarh', u'Chhattisgarh', u'Dadara & Nagar Havelli', u'Daman & Diu', u'Goa', u'Gujarat', u'Haryana', u'Himachal Pradesh', u'Jammu & Kashmir', u'Jharkhand', u'Karnataka', u'Kerala', u'Lakshadweep', u'Madhya Pradesh', u'Maharashtra', u'Manipur', u'Meghalaya', u'Mizoram', u'Nagaland', u'NCT of Delhi', u'Puducherry', u'Punjab', u'Rajasthan', u'Sikkim', u'Tamil Nadu', u'Telangana', u'Tripura', u'Uttar Pradesh', u'Uttarakhand', u'West Bengal', u'Odisha']\n",
      "[u'Andaman & Nicobar Island', u'Andhra Pradesh', u'Arunanchal Pradesh', u'Assam', u'Bihar', u'Chandigarh', u'Chhattisgarh', u'Dadara & Nagar Havelli', u'Daman & Diu', u'Goa', u'Gujarat', u'Haryana', u'Himachal Pradesh', u'Jammu & Kashmir', u'Jharkhand', u'Karnataka', u'Kerala', u'Lakshadweep', u'Madhya Pradesh', u'Maharashtra', u'Manipur', u'Meghalaya', u'Mizoram', u'Nagaland', u'NCT of Delhi', u'Puducherry', u'Punjab', u'Rajasthan', u'Sikkim', u'Tamil Nadu', u'Telangana', u'Tripura', u'Uttar Pradesh', u'Uttarakhand', u'West Bengal', u'Odisha']\n"
     ]
    }
   ],
   "source": [
    "names=getstatenames(p)\n",
    "print names"
   ]
  },
  {
   "cell_type": "code",
   "execution_count": null,
   "metadata": {},
   "outputs": [],
   "source": []
  },
  {
   "cell_type": "code",
   "execution_count": 32,
   "metadata": {},
   "outputs": [
    {
     "name": "stdout",
     "output_type": "stream",
     "text": [
      "[u'TOT_DISTS', u'RYLT_C', u'RYLT_NC', u'DT_DMF_NOT', u'NUM_DISTS', u'COLL_DMF', u'DT_DMF_RUL', u'LNK', u'ST_NM']\n",
      "states.csv\n"
     ]
    }
   ],
   "source": [
    "tab=converttotable(p)\n",
    "print tab.filename"
   ]
  },
  {
   "cell_type": "code",
   "execution_count": 28,
   "metadata": {},
   "outputs": [],
   "source": [
    "exportExcelFile([tab],\"/home/arjun/test.xlsx\")"
   ]
  },
  {
   "cell_type": "code",
   "execution_count": 54,
   "metadata": {},
   "outputs": [],
   "source": [
    "excelfile=importExcelFile(\"/home/arjun/test.xlsx\")\n",
    "tab2=excelfile[0]\n",
    "retgeojson=updatepropertiesfromtable(p,tab2)\n",
    "os.system(\"mv /var/www/html/etsite/demos/dmftest-simple.geojson /var/www/html/etsite/demos/dmftest-simple.geojson.orig\")\n",
    "f=open(\"/var/www/html/etsite/demos/dmftest-simple.geojson\",\"w\")\n",
    "f.write(json.dumps(retgeojson))\n",
    "f.close()"
   ]
  },
  {
   "cell_type": "code",
   "execution_count": null,
   "metadata": {},
   "outputs": [],
   "source": []
  }
 ],
 "metadata": {
  "kernelspec": {
   "display_name": "Python 2",
   "language": "python",
   "name": "python2"
  },
  "language_info": {
   "codemirror_mode": {
    "name": "ipython",
    "version": 2
   },
   "file_extension": ".py",
   "mimetype": "text/x-python",
   "name": "python",
   "nbconvert_exporter": "python",
   "pygments_lexer": "ipython2",
   "version": "2.7.12"
  }
 },
 "nbformat": 4,
 "nbformat_minor": 2
}
