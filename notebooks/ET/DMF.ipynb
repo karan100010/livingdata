{
 "cells": [
  {
   "cell_type": "code",
   "execution_count": 18,
   "metadata": {},
   "outputs": [],
   "source": [
    "import os, sys,json\n",
    "sys.path.append(\"../../lib\")\n",
    "from livdattable import *\n",
    "t=Table()\n",
    "f=open(\"/var/www/html/etsite/demos/dmftest-simple.geojson\", \"r\")\n",
    "p=json.loads(f.read())\n",
    "def getstateindexbyname(statename, geojsoninput):\n",
    "    index=0\n",
    "    for state in geojsoninput['features']:\n",
    "        if state['properties']['ST_NM']==statename:\n",
    "            return index\n",
    "        index+=1\n",
    "    return -1\n",
    "\n",
    "def getpropertiesbystatename(statename,geojsoninput):\n",
    "    index=getstateindexbyname(statename,geojsoninput)\n",
    "    return geojsoninput['features'][index]['properties']\n",
    "    \n",
    "def getstatenames(geojsoninput):\n",
    "    statenames=[]\n",
    "    for state in geojsoninput['features']:\n",
    "        statenames.append(state['properties']['ST_NM'])\n",
    "        print statenames\n",
    "    return statenames"
   ]
  },
  {
   "cell_type": "code",
   "execution_count": 13,
   "metadata": {},
   "outputs": [
    {
     "name": "stdout",
     "output_type": "stream",
     "text": [
      "{u'TOT_DISTS': 13, u'RYLT_C': None, u'RYLT_NC': 335.71, u'DT_DMF_NOT': u'2015/06/27', u'NUM_DISTS': 13, u'COLL_DMF': None, u'DT_DMF_RUL': u'2016/03/14', u'LNK': u'http://etdemo.cowmesh.net/wp/resources/district-mineral-foundation/andhra-pradesh-district-mineral-foundation/', u'ST_NM': u'Andhra Pradesh'}\n"
     ]
    }
   ],
   "source": [
    "t=getpropertiesbystatename(\"Andhra Pradesh\",p)\n",
    "print t"
   ]
  },
  {
   "cell_type": "code",
   "execution_count": 19,
   "metadata": {},
   "outputs": [
    {
     "name": "stdout",
     "output_type": "stream",
     "text": [
      "[u'Andaman & Nicobar Island']\n",
      "[u'Andaman & Nicobar Island', u'Andhra Pradesh']\n",
      "[u'Andaman & Nicobar Island', u'Andhra Pradesh', u'Arunanchal Pradesh']\n",
      "[u'Andaman & Nicobar Island', u'Andhra Pradesh', u'Arunanchal Pradesh', u'Assam']\n",
      "[u'Andaman & Nicobar Island', u'Andhra Pradesh', u'Arunanchal Pradesh', u'Assam', u'Bihar']\n",
      "[u'Andaman & Nicobar Island', u'Andhra Pradesh', u'Arunanchal Pradesh', u'Assam', u'Bihar', u'Chandigarh']\n",
      "[u'Andaman & Nicobar Island', u'Andhra Pradesh', u'Arunanchal Pradesh', u'Assam', u'Bihar', u'Chandigarh', u'Chhattisgarh']\n",
      "[u'Andaman & Nicobar Island', u'Andhra Pradesh', u'Arunanchal Pradesh', u'Assam', u'Bihar', u'Chandigarh', u'Chhattisgarh', u'Dadara & Nagar Havelli']\n",
      "[u'Andaman & Nicobar Island', u'Andhra Pradesh', u'Arunanchal Pradesh', u'Assam', u'Bihar', u'Chandigarh', u'Chhattisgarh', u'Dadara & Nagar Havelli', u'Daman & Diu']\n",
      "[u'Andaman & Nicobar Island', u'Andhra Pradesh', u'Arunanchal Pradesh', u'Assam', u'Bihar', u'Chandigarh', u'Chhattisgarh', u'Dadara & Nagar Havelli', u'Daman & Diu', u'Goa']\n",
      "[u'Andaman & Nicobar Island', u'Andhra Pradesh', u'Arunanchal Pradesh', u'Assam', u'Bihar', u'Chandigarh', u'Chhattisgarh', u'Dadara & Nagar Havelli', u'Daman & Diu', u'Goa', u'Gujarat']\n",
      "[u'Andaman & Nicobar Island', u'Andhra Pradesh', u'Arunanchal Pradesh', u'Assam', u'Bihar', u'Chandigarh', u'Chhattisgarh', u'Dadara & Nagar Havelli', u'Daman & Diu', u'Goa', u'Gujarat', u'Haryana']\n",
      "[u'Andaman & Nicobar Island', u'Andhra Pradesh', u'Arunanchal Pradesh', u'Assam', u'Bihar', u'Chandigarh', u'Chhattisgarh', u'Dadara & Nagar Havelli', u'Daman & Diu', u'Goa', u'Gujarat', u'Haryana', u'Himachal Pradesh']\n",
      "[u'Andaman & Nicobar Island', u'Andhra Pradesh', u'Arunanchal Pradesh', u'Assam', u'Bihar', u'Chandigarh', u'Chhattisgarh', u'Dadara & Nagar Havelli', u'Daman & Diu', u'Goa', u'Gujarat', u'Haryana', u'Himachal Pradesh', u'Jammu & Kashmir']\n",
      "[u'Andaman & Nicobar Island', u'Andhra Pradesh', u'Arunanchal Pradesh', u'Assam', u'Bihar', u'Chandigarh', u'Chhattisgarh', u'Dadara & Nagar Havelli', u'Daman & Diu', u'Goa', u'Gujarat', u'Haryana', u'Himachal Pradesh', u'Jammu & Kashmir', u'Jharkhand']\n",
      "[u'Andaman & Nicobar Island', u'Andhra Pradesh', u'Arunanchal Pradesh', u'Assam', u'Bihar', u'Chandigarh', u'Chhattisgarh', u'Dadara & Nagar Havelli', u'Daman & Diu', u'Goa', u'Gujarat', u'Haryana', u'Himachal Pradesh', u'Jammu & Kashmir', u'Jharkhand', u'Karnataka']\n",
      "[u'Andaman & Nicobar Island', u'Andhra Pradesh', u'Arunanchal Pradesh', u'Assam', u'Bihar', u'Chandigarh', u'Chhattisgarh', u'Dadara & Nagar Havelli', u'Daman & Diu', u'Goa', u'Gujarat', u'Haryana', u'Himachal Pradesh', u'Jammu & Kashmir', u'Jharkhand', u'Karnataka', u'Kerala']\n",
      "[u'Andaman & Nicobar Island', u'Andhra Pradesh', u'Arunanchal Pradesh', u'Assam', u'Bihar', u'Chandigarh', u'Chhattisgarh', u'Dadara & Nagar Havelli', u'Daman & Diu', u'Goa', u'Gujarat', u'Haryana', u'Himachal Pradesh', u'Jammu & Kashmir', u'Jharkhand', u'Karnataka', u'Kerala', u'Lakshadweep']\n",
      "[u'Andaman & Nicobar Island', u'Andhra Pradesh', u'Arunanchal Pradesh', u'Assam', u'Bihar', u'Chandigarh', u'Chhattisgarh', u'Dadara & Nagar Havelli', u'Daman & Diu', u'Goa', u'Gujarat', u'Haryana', u'Himachal Pradesh', u'Jammu & Kashmir', u'Jharkhand', u'Karnataka', u'Kerala', u'Lakshadweep', u'Madhya Pradesh']\n",
      "[u'Andaman & Nicobar Island', u'Andhra Pradesh', u'Arunanchal Pradesh', u'Assam', u'Bihar', u'Chandigarh', u'Chhattisgarh', u'Dadara & Nagar Havelli', u'Daman & Diu', u'Goa', u'Gujarat', u'Haryana', u'Himachal Pradesh', u'Jammu & Kashmir', u'Jharkhand', u'Karnataka', u'Kerala', u'Lakshadweep', u'Madhya Pradesh', u'Maharashtra']\n",
      "[u'Andaman & Nicobar Island', u'Andhra Pradesh', u'Arunanchal Pradesh', u'Assam', u'Bihar', u'Chandigarh', u'Chhattisgarh', u'Dadara & Nagar Havelli', u'Daman & Diu', u'Goa', u'Gujarat', u'Haryana', u'Himachal Pradesh', u'Jammu & Kashmir', u'Jharkhand', u'Karnataka', u'Kerala', u'Lakshadweep', u'Madhya Pradesh', u'Maharashtra', u'Manipur']\n",
      "[u'Andaman & Nicobar Island', u'Andhra Pradesh', u'Arunanchal Pradesh', u'Assam', u'Bihar', u'Chandigarh', u'Chhattisgarh', u'Dadara & Nagar Havelli', u'Daman & Diu', u'Goa', u'Gujarat', u'Haryana', u'Himachal Pradesh', u'Jammu & Kashmir', u'Jharkhand', u'Karnataka', u'Kerala', u'Lakshadweep', u'Madhya Pradesh', u'Maharashtra', u'Manipur', u'Meghalaya']\n",
      "[u'Andaman & Nicobar Island', u'Andhra Pradesh', u'Arunanchal Pradesh', u'Assam', u'Bihar', u'Chandigarh', u'Chhattisgarh', u'Dadara & Nagar Havelli', u'Daman & Diu', u'Goa', u'Gujarat', u'Haryana', u'Himachal Pradesh', u'Jammu & Kashmir', u'Jharkhand', u'Karnataka', u'Kerala', u'Lakshadweep', u'Madhya Pradesh', u'Maharashtra', u'Manipur', u'Meghalaya', u'Mizoram']\n",
      "[u'Andaman & Nicobar Island', u'Andhra Pradesh', u'Arunanchal Pradesh', u'Assam', u'Bihar', u'Chandigarh', u'Chhattisgarh', u'Dadara & Nagar Havelli', u'Daman & Diu', u'Goa', u'Gujarat', u'Haryana', u'Himachal Pradesh', u'Jammu & Kashmir', u'Jharkhand', u'Karnataka', u'Kerala', u'Lakshadweep', u'Madhya Pradesh', u'Maharashtra', u'Manipur', u'Meghalaya', u'Mizoram', u'Nagaland']\n",
      "[u'Andaman & Nicobar Island', u'Andhra Pradesh', u'Arunanchal Pradesh', u'Assam', u'Bihar', u'Chandigarh', u'Chhattisgarh', u'Dadara & Nagar Havelli', u'Daman & Diu', u'Goa', u'Gujarat', u'Haryana', u'Himachal Pradesh', u'Jammu & Kashmir', u'Jharkhand', u'Karnataka', u'Kerala', u'Lakshadweep', u'Madhya Pradesh', u'Maharashtra', u'Manipur', u'Meghalaya', u'Mizoram', u'Nagaland', u'NCT of Delhi']\n",
      "[u'Andaman & Nicobar Island', u'Andhra Pradesh', u'Arunanchal Pradesh', u'Assam', u'Bihar', u'Chandigarh', u'Chhattisgarh', u'Dadara & Nagar Havelli', u'Daman & Diu', u'Goa', u'Gujarat', u'Haryana', u'Himachal Pradesh', u'Jammu & Kashmir', u'Jharkhand', u'Karnataka', u'Kerala', u'Lakshadweep', u'Madhya Pradesh', u'Maharashtra', u'Manipur', u'Meghalaya', u'Mizoram', u'Nagaland', u'NCT of Delhi', u'Puducherry']\n",
      "[u'Andaman & Nicobar Island', u'Andhra Pradesh', u'Arunanchal Pradesh', u'Assam', u'Bihar', u'Chandigarh', u'Chhattisgarh', u'Dadara & Nagar Havelli', u'Daman & Diu', u'Goa', u'Gujarat', u'Haryana', u'Himachal Pradesh', u'Jammu & Kashmir', u'Jharkhand', u'Karnataka', u'Kerala', u'Lakshadweep', u'Madhya Pradesh', u'Maharashtra', u'Manipur', u'Meghalaya', u'Mizoram', u'Nagaland', u'NCT of Delhi', u'Puducherry', u'Punjab']\n",
      "[u'Andaman & Nicobar Island', u'Andhra Pradesh', u'Arunanchal Pradesh', u'Assam', u'Bihar', u'Chandigarh', u'Chhattisgarh', u'Dadara & Nagar Havelli', u'Daman & Diu', u'Goa', u'Gujarat', u'Haryana', u'Himachal Pradesh', u'Jammu & Kashmir', u'Jharkhand', u'Karnataka', u'Kerala', u'Lakshadweep', u'Madhya Pradesh', u'Maharashtra', u'Manipur', u'Meghalaya', u'Mizoram', u'Nagaland', u'NCT of Delhi', u'Puducherry', u'Punjab', u'Rajasthan']\n",
      "[u'Andaman & Nicobar Island', u'Andhra Pradesh', u'Arunanchal Pradesh', u'Assam', u'Bihar', u'Chandigarh', u'Chhattisgarh', u'Dadara & Nagar Havelli', u'Daman & Diu', u'Goa', u'Gujarat', u'Haryana', u'Himachal Pradesh', u'Jammu & Kashmir', u'Jharkhand', u'Karnataka', u'Kerala', u'Lakshadweep', u'Madhya Pradesh', u'Maharashtra', u'Manipur', u'Meghalaya', u'Mizoram', u'Nagaland', u'NCT of Delhi', u'Puducherry', u'Punjab', u'Rajasthan', u'Sikkim']\n",
      "[u'Andaman & Nicobar Island', u'Andhra Pradesh', u'Arunanchal Pradesh', u'Assam', u'Bihar', u'Chandigarh', u'Chhattisgarh', u'Dadara & Nagar Havelli', u'Daman & Diu', u'Goa', u'Gujarat', u'Haryana', u'Himachal Pradesh', u'Jammu & Kashmir', u'Jharkhand', u'Karnataka', u'Kerala', u'Lakshadweep', u'Madhya Pradesh', u'Maharashtra', u'Manipur', u'Meghalaya', u'Mizoram', u'Nagaland', u'NCT of Delhi', u'Puducherry', u'Punjab', u'Rajasthan', u'Sikkim', u'Tamil Nadu']\n",
      "[u'Andaman & Nicobar Island', u'Andhra Pradesh', u'Arunanchal Pradesh', u'Assam', u'Bihar', u'Chandigarh', u'Chhattisgarh', u'Dadara & Nagar Havelli', u'Daman & Diu', u'Goa', u'Gujarat', u'Haryana', u'Himachal Pradesh', u'Jammu & Kashmir', u'Jharkhand', u'Karnataka', u'Kerala', u'Lakshadweep', u'Madhya Pradesh', u'Maharashtra', u'Manipur', u'Meghalaya', u'Mizoram', u'Nagaland', u'NCT of Delhi', u'Puducherry', u'Punjab', u'Rajasthan', u'Sikkim', u'Tamil Nadu', u'Telangana']\n",
      "[u'Andaman & Nicobar Island', u'Andhra Pradesh', u'Arunanchal Pradesh', u'Assam', u'Bihar', u'Chandigarh', u'Chhattisgarh', u'Dadara & Nagar Havelli', u'Daman & Diu', u'Goa', u'Gujarat', u'Haryana', u'Himachal Pradesh', u'Jammu & Kashmir', u'Jharkhand', u'Karnataka', u'Kerala', u'Lakshadweep', u'Madhya Pradesh', u'Maharashtra', u'Manipur', u'Meghalaya', u'Mizoram', u'Nagaland', u'NCT of Delhi', u'Puducherry', u'Punjab', u'Rajasthan', u'Sikkim', u'Tamil Nadu', u'Telangana', u'Tripura']\n",
      "[u'Andaman & Nicobar Island', u'Andhra Pradesh', u'Arunanchal Pradesh', u'Assam', u'Bihar', u'Chandigarh', u'Chhattisgarh', u'Dadara & Nagar Havelli', u'Daman & Diu', u'Goa', u'Gujarat', u'Haryana', u'Himachal Pradesh', u'Jammu & Kashmir', u'Jharkhand', u'Karnataka', u'Kerala', u'Lakshadweep', u'Madhya Pradesh', u'Maharashtra', u'Manipur', u'Meghalaya', u'Mizoram', u'Nagaland', u'NCT of Delhi', u'Puducherry', u'Punjab', u'Rajasthan', u'Sikkim', u'Tamil Nadu', u'Telangana', u'Tripura', u'Uttar Pradesh']\n",
      "[u'Andaman & Nicobar Island', u'Andhra Pradesh', u'Arunanchal Pradesh', u'Assam', u'Bihar', u'Chandigarh', u'Chhattisgarh', u'Dadara & Nagar Havelli', u'Daman & Diu', u'Goa', u'Gujarat', u'Haryana', u'Himachal Pradesh', u'Jammu & Kashmir', u'Jharkhand', u'Karnataka', u'Kerala', u'Lakshadweep', u'Madhya Pradesh', u'Maharashtra', u'Manipur', u'Meghalaya', u'Mizoram', u'Nagaland', u'NCT of Delhi', u'Puducherry', u'Punjab', u'Rajasthan', u'Sikkim', u'Tamil Nadu', u'Telangana', u'Tripura', u'Uttar Pradesh', u'Uttarakhand']\n",
      "[u'Andaman & Nicobar Island', u'Andhra Pradesh', u'Arunanchal Pradesh', u'Assam', u'Bihar', u'Chandigarh', u'Chhattisgarh', u'Dadara & Nagar Havelli', u'Daman & Diu', u'Goa', u'Gujarat', u'Haryana', u'Himachal Pradesh', u'Jammu & Kashmir', u'Jharkhand', u'Karnataka', u'Kerala', u'Lakshadweep', u'Madhya Pradesh', u'Maharashtra', u'Manipur', u'Meghalaya', u'Mizoram', u'Nagaland', u'NCT of Delhi', u'Puducherry', u'Punjab', u'Rajasthan', u'Sikkim', u'Tamil Nadu', u'Telangana', u'Tripura', u'Uttar Pradesh', u'Uttarakhand', u'West Bengal']\n",
      "[u'Andaman & Nicobar Island', u'Andhra Pradesh', u'Arunanchal Pradesh', u'Assam', u'Bihar', u'Chandigarh', u'Chhattisgarh', u'Dadara & Nagar Havelli', u'Daman & Diu', u'Goa', u'Gujarat', u'Haryana', u'Himachal Pradesh', u'Jammu & Kashmir', u'Jharkhand', u'Karnataka', u'Kerala', u'Lakshadweep', u'Madhya Pradesh', u'Maharashtra', u'Manipur', u'Meghalaya', u'Mizoram', u'Nagaland', u'NCT of Delhi', u'Puducherry', u'Punjab', u'Rajasthan', u'Sikkim', u'Tamil Nadu', u'Telangana', u'Tripura', u'Uttar Pradesh', u'Uttarakhand', u'West Bengal', u'Odisha']\n",
      "[u'Andaman & Nicobar Island', u'Andhra Pradesh', u'Arunanchal Pradesh', u'Assam', u'Bihar', u'Chandigarh', u'Chhattisgarh', u'Dadara & Nagar Havelli', u'Daman & Diu', u'Goa', u'Gujarat', u'Haryana', u'Himachal Pradesh', u'Jammu & Kashmir', u'Jharkhand', u'Karnataka', u'Kerala', u'Lakshadweep', u'Madhya Pradesh', u'Maharashtra', u'Manipur', u'Meghalaya', u'Mizoram', u'Nagaland', u'NCT of Delhi', u'Puducherry', u'Punjab', u'Rajasthan', u'Sikkim', u'Tamil Nadu', u'Telangana', u'Tripura', u'Uttar Pradesh', u'Uttarakhand', u'West Bengal', u'Odisha']\n"
     ]
    }
   ],
   "source": [
    "names=getstatenames(p)\n",
    "print names"
   ]
  },
  {
   "cell_type": "code",
   "execution_count": 21,
   "metadata": {},
   "outputs": [
    {
     "name": "stdout",
     "output_type": "stream",
     "text": [
      "Andaman & Nicobar Island\n",
      "Andhra Pradesh\n",
      "Arunanchal Pradesh\n",
      "Assam\n",
      "Bihar\n",
      "Chandigarh\n",
      "Chhattisgarh\n",
      "Dadara & Nagar Havelli\n",
      "Daman & Diu\n",
      "Goa\n",
      "Gujarat\n",
      "Haryana\n",
      "Himachal Pradesh\n",
      "Jammu & Kashmir\n",
      "Jharkhand\n",
      "Karnataka\n",
      "Kerala\n",
      "Lakshadweep\n",
      "Madhya Pradesh\n",
      "Maharashtra\n",
      "Manipur\n",
      "Meghalaya\n",
      "Mizoram\n",
      "Nagaland\n",
      "NCT of Delhi\n",
      "Puducherry\n",
      "Punjab\n",
      "Rajasthan\n",
      "Sikkim\n",
      "Tamil Nadu\n",
      "Telangana\n",
      "Tripura\n",
      "Uttar Pradesh\n",
      "Uttarakhand\n",
      "West Bengal\n",
      "Odisha\n"
     ]
    }
   ],
   "source": [
    "for name in names: print name"
   ]
  },
  {
   "cell_type": "code",
   "execution_count": null,
   "metadata": {},
   "outputs": [],
   "source": []
  }
 ],
 "metadata": {
  "kernelspec": {
   "display_name": "Python 2",
   "language": "python",
   "name": "python2"
  },
  "language_info": {
   "codemirror_mode": {
    "name": "ipython",
    "version": 2
   },
   "file_extension": ".py",
   "mimetype": "text/x-python",
   "name": "python",
   "nbconvert_exporter": "python",
   "pygments_lexer": "ipython2",
   "version": "2.7.12"
  }
 },
 "nbformat": 4,
 "nbformat_minor": 2
}
